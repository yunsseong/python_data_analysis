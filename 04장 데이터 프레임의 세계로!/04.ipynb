{
 "cells": [
  {
   "cell_type": "code",
   "execution_count": 1,
   "id": "c491335c-eaad-4f72-8e20-783774f35df7",
   "metadata": {},
   "outputs": [],
   "source": [
    "import pandas as pd"
   ]
  },
  {
   "cell_type": "code",
   "execution_count": 2,
   "id": "45587b90-b23a-4e0f-b994-5928286f2ea8",
   "metadata": {},
   "outputs": [],
   "source": [
    "df = pd.DataFrame({'name' : ['김지훈', '이유진', '박동현', '김민지'],\n",
    "                  'english' : [90, 80, 60, 70],\n",
    "                  'math' : [50, 60, 100, 20]})"
   ]
  },
  {
   "cell_type": "code",
   "execution_count": 3,
   "id": "93f139f1-fc18-4925-a4e7-cd0dfe481129",
   "metadata": {},
   "outputs": [
    {
     "data": {
      "text/html": [
       "<div>\n",
       "<style scoped>\n",
       "    .dataframe tbody tr th:only-of-type {\n",
       "        vertical-align: middle;\n",
       "    }\n",
       "\n",
       "    .dataframe tbody tr th {\n",
       "        vertical-align: top;\n",
       "    }\n",
       "\n",
       "    .dataframe thead th {\n",
       "        text-align: right;\n",
       "    }\n",
       "</style>\n",
       "<table border=\"1\" class=\"dataframe\">\n",
       "  <thead>\n",
       "    <tr style=\"text-align: right;\">\n",
       "      <th></th>\n",
       "      <th>name</th>\n",
       "      <th>english</th>\n",
       "      <th>math</th>\n",
       "    </tr>\n",
       "  </thead>\n",
       "  <tbody>\n",
       "    <tr>\n",
       "      <th>0</th>\n",
       "      <td>김지훈</td>\n",
       "      <td>90</td>\n",
       "      <td>50</td>\n",
       "    </tr>\n",
       "    <tr>\n",
       "      <th>1</th>\n",
       "      <td>이유진</td>\n",
       "      <td>80</td>\n",
       "      <td>60</td>\n",
       "    </tr>\n",
       "    <tr>\n",
       "      <th>2</th>\n",
       "      <td>박동현</td>\n",
       "      <td>60</td>\n",
       "      <td>100</td>\n",
       "    </tr>\n",
       "    <tr>\n",
       "      <th>3</th>\n",
       "      <td>김민지</td>\n",
       "      <td>70</td>\n",
       "      <td>20</td>\n",
       "    </tr>\n",
       "  </tbody>\n",
       "</table>\n",
       "</div>"
      ],
      "text/plain": [
       "  name  english  math\n",
       "0  김지훈       90    50\n",
       "1  이유진       80    60\n",
       "2  박동현       60   100\n",
       "3  김민지       70    20"
      ]
     },
     "execution_count": 3,
     "metadata": {},
     "output_type": "execute_result"
    }
   ],
   "source": [
    "df"
   ]
  },
  {
   "cell_type": "code",
   "execution_count": 4,
   "id": "2e47f231-9013-41a4-ac10-30bb2693b07d",
   "metadata": {},
   "outputs": [
    {
     "data": {
      "text/plain": [
       "0    90\n",
       "1    80\n",
       "2    60\n",
       "3    70\n",
       "Name: english, dtype: int64"
      ]
     },
     "execution_count": 4,
     "metadata": {},
     "output_type": "execute_result"
    }
   ],
   "source": [
    "df['english']"
   ]
  },
  {
   "cell_type": "code",
   "execution_count": 5,
   "id": "ca203594-4690-457c-b97c-bc002c2cf66a",
   "metadata": {},
   "outputs": [
    {
     "data": {
      "text/plain": [
       "300"
      ]
     },
     "execution_count": 5,
     "metadata": {},
     "output_type": "execute_result"
    }
   ],
   "source": [
    "sum(df['english'])"
   ]
  },
  {
   "cell_type": "code",
   "execution_count": 6,
   "id": "3e351962-db8b-4bef-b736-2dedb1862ba9",
   "metadata": {},
   "outputs": [
    {
     "data": {
      "text/plain": [
       "57.5"
      ]
     },
     "execution_count": 6,
     "metadata": {},
     "output_type": "execute_result"
    }
   ],
   "source": [
    "sum(df['math'])/4"
   ]
  },
  {
   "cell_type": "code",
   "execution_count": 7,
   "id": "f939c5a1-511e-4aea-abd6-1d0c0203792c",
   "metadata": {},
   "outputs": [
    {
     "data": {
      "text/plain": [
       "57.5"
      ]
     },
     "execution_count": 7,
     "metadata": {},
     "output_type": "execute_result"
    }
   ],
   "source": [
    "sum(df['math'])/len(df)"
   ]
  },
  {
   "cell_type": "code",
   "execution_count": 8,
   "id": "bd3d3012-6207-4719-af19-20c06bee0ec4",
   "metadata": {},
   "outputs": [],
   "source": [
    "#4장 문제"
   ]
  },
  {
   "cell_type": "code",
   "execution_count": 10,
   "id": "2708e836-c02d-484d-8987-976474f06052",
   "metadata": {},
   "outputs": [],
   "source": [
    "fruit_df = pd.DataFrame({'제품' : ['사과', '딸기', '수박'],\n",
    "                         '가격' : [1800, 1500, 3000],\n",
    "                         '판매량' : [24, 38, 13]})"
   ]
  },
  {
   "cell_type": "code",
   "execution_count": 11,
   "id": "9f01fa02-fa9c-4da4-804b-0c66e4bf04a2",
   "metadata": {},
   "outputs": [
    {
     "data": {
      "text/html": [
       "<div>\n",
       "<style scoped>\n",
       "    .dataframe tbody tr th:only-of-type {\n",
       "        vertical-align: middle;\n",
       "    }\n",
       "\n",
       "    .dataframe tbody tr th {\n",
       "        vertical-align: top;\n",
       "    }\n",
       "\n",
       "    .dataframe thead th {\n",
       "        text-align: right;\n",
       "    }\n",
       "</style>\n",
       "<table border=\"1\" class=\"dataframe\">\n",
       "  <thead>\n",
       "    <tr style=\"text-align: right;\">\n",
       "      <th></th>\n",
       "      <th>제품</th>\n",
       "      <th>가격</th>\n",
       "      <th>판매량</th>\n",
       "    </tr>\n",
       "  </thead>\n",
       "  <tbody>\n",
       "    <tr>\n",
       "      <th>0</th>\n",
       "      <td>사과</td>\n",
       "      <td>1800</td>\n",
       "      <td>24</td>\n",
       "    </tr>\n",
       "    <tr>\n",
       "      <th>1</th>\n",
       "      <td>딸기</td>\n",
       "      <td>1500</td>\n",
       "      <td>38</td>\n",
       "    </tr>\n",
       "    <tr>\n",
       "      <th>2</th>\n",
       "      <td>수박</td>\n",
       "      <td>3000</td>\n",
       "      <td>13</td>\n",
       "    </tr>\n",
       "  </tbody>\n",
       "</table>\n",
       "</div>"
      ],
      "text/plain": [
       "   제품    가격  판매량\n",
       "0  사과  1800   24\n",
       "1  딸기  1500   38\n",
       "2  수박  3000   13"
      ]
     },
     "execution_count": 11,
     "metadata": {},
     "output_type": "execute_result"
    }
   ],
   "source": [
    "fruit_df"
   ]
  },
  {
   "cell_type": "code",
   "execution_count": 12,
   "id": "6833b32d-27e9-451a-95f2-ba1088d2fc0e",
   "metadata": {},
   "outputs": [],
   "source": [
    "price_avg = sum(fruit_df['가격'])/len(fruit_df)"
   ]
  },
  {
   "cell_type": "code",
   "execution_count": 13,
   "id": "dc90ebd1-1db7-48b1-a95f-3f19c554decf",
   "metadata": {},
   "outputs": [],
   "source": [
    "sales_rate = sum(fruit_df['판매량'])/len(fruit_df)"
   ]
  },
  {
   "cell_type": "code",
   "execution_count": 15,
   "id": "424099a8-1569-4a8a-b687-de6d1fb63449",
   "metadata": {},
   "outputs": [
    {
     "name": "stdout",
     "output_type": "stream",
     "text": [
      "과일 가격 평균 : 2100.0, 과일 판매량 평균 : 25.0\n"
     ]
    }
   ],
   "source": [
    "print(f'과일 가격 평균 : {price_avg}, 과일 판매량 평균 : {sales_rate}')"
   ]
  },
  {
   "cell_type": "code",
   "execution_count": null,
   "id": "621b6898-5bc4-4547-a278-ab71eafbc049",
   "metadata": {},
   "outputs": [],
   "source": []
  }
 ],
 "metadata": {
  "kernelspec": {
   "display_name": "Python 3 (ipykernel)",
   "language": "python",
   "name": "python3"
  },
  "language_info": {
   "codemirror_mode": {
    "name": "ipython",
    "version": 3
   },
   "file_extension": ".py",
   "mimetype": "text/x-python",
   "name": "python",
   "nbconvert_exporter": "python",
   "pygments_lexer": "ipython3",
   "version": "3.10.4"
  }
 },
 "nbformat": 4,
 "nbformat_minor": 5
}
